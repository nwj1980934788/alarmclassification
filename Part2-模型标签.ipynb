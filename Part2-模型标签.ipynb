{
 "cells": [
  {
   "cell_type": "markdown",
   "id": "61ff2bbb-34c0-4a7b-b697-b5f390b4c78f",
   "metadata": {},
   "source": [
    "# Part2: 模型标签   \n",
    "---"
   ]
  },
  {
   "cell_type": "markdown",
   "id": "60d4ee38-35ac-4c6f-8825-b9dab9c95dd2",
   "metadata": {},
   "source": [
    "##### 针对聚类的后的结果，初步调用模型进行打标签，输入输出文件存放【dataset/大模型标签】路径下 \n",
    "file_path:待打标签的文件，默认为聚类之后每个模版的首条告警内容 </br>\n",
    "save_path:保存打完标签之后的文件 </br>"
   ]
  },
  {
   "cell_type": "code",
   "execution_count": 1,
   "id": "3cf794e9-2382-4693-9745-d9faa0bf38fe",
   "metadata": {},
   "outputs": [
    {
     "name": "stderr",
     "output_type": "stream",
     "text": [
      "C:\\Users\\1\\miniconda3\\envs\\_tf24\\lib\\site-packages\\scipy\\__init__.py:146: UserWarning: A NumPy version >=1.16.5 and <1.23.0 is required for this version of SciPy (detected version 1.23.5\n",
      "  warnings.warn(f\"A NumPy version >={np_minversion} and <{np_maxversion}\"\n"
     ]
    }
   ],
   "source": [
    "from llm_api import *\n",
    "from data_enhancement import add_save_all_alarm"
   ]
  },
  {
   "cell_type": "markdown",
   "id": "22af3239-3011-4f3a-9527-b663ce41476a",
   "metadata": {},
   "source": [
    "### 输入输出路径"
   ]
  },
  {
   "cell_type": "code",
   "execution_count": 2,
   "id": "a09ea24d-e63a-47f2-9996-940d6a2da519",
   "metadata": {},
   "outputs": [],
   "source": [
    "# 模板告警保存路径\n",
    "# file_path = './dataset/大模型标签/验证大模型打标签_20rows.csv'\n",
    "# #chat打完标签后文件保存路径\n",
    "# save_path = './dataset/大模型标签/temp_alarm_with_label.csv'"
   ]
  },
  {
   "cell_type": "markdown",
   "id": "beb87307-b118-4d8f-b54b-f6f6705cdcb6",
   "metadata": {},
   "source": [
    "## 打标签"
   ]
  },
  {
   "cell_type": "code",
   "execution_count": 1,
   "id": "92c4d5af-a26a-4a0c-8565-f4f0b4cfc99e",
   "metadata": {
    "tags": []
   },
   "outputs": [],
   "source": [
    "# df = map_label(file_path)\n",
    "# display(df)"
   ]
  },
  {
   "cell_type": "markdown",
   "id": "0cb44da5-e406-4fd9-b2b7-7558633a8aa7",
   "metadata": {},
   "source": [
    "## 保存文件"
   ]
  },
  {
   "cell_type": "code",
   "execution_count": null,
   "id": "ece50fca-87c7-4fb1-b29f-59ce29364049",
   "metadata": {},
   "outputs": [],
   "source": [
    "# df.to_csv(save_path, index=False)"
   ]
  },
  {
   "cell_type": "markdown",
   "id": "4c70e318-c0f4-4e4f-aebd-469a1b0bec16",
   "metadata": {},
   "source": [
    "## 合并&映射标签"
   ]
  },
  {
   "cell_type": "code",
   "execution_count": 2,
   "id": "9f8d4c90-f06d-40bc-9a6d-e6f1386df959",
   "metadata": {},
   "outputs": [],
   "source": [
    "# 模版告警路径\n",
    "temp_alarm_path = \"D:\\ZYL\\label_class\\Project\\dataset\\聚类模板\\dy-temp775.csv\"\n",
    "# 原始告警数据路径\n",
    "all_alarm_path = \"D:\\ZYL\\告警数据记录\\东亚银行告警\\原始告警\\dy-struc.csv\"\n",
    "# 保存合并后的路径\n",
    "save_alarm_path = \"D:\\ZYL\\label_class\\Project\\dataset\\数据增强\\东亚全量告警-未增强.csv\"    # 可返回来调整数据\n",
    "# 模版id列--EventId\n",
    "col1 = 'EventId'\n",
    "# 标签列\n",
    "col2 = 'label'"
   ]
  },
  {
   "cell_type": "code",
   "execution_count": 3,
   "id": "24270e07-2174-4739-9044-88300d259e8f",
   "metadata": {},
   "outputs": [],
   "source": [
    "# 合并&保存\n",
    "add_save_all_alarm(temp_alarm_path, all_alarm_path, save_alarm_path, col1, col2)"
   ]
  }
 ],
 "metadata": {
  "kernelspec": {
   "display_name": "Python 3",
   "language": "python",
   "name": "python3"
  },
  "language_info": {
   "codemirror_mode": {
    "name": "ipython",
    "version": 3
   },
   "file_extension": ".py",
   "mimetype": "text/x-python",
   "name": "python",
   "nbconvert_exporter": "python",
   "pygments_lexer": "ipython3",
   "version": "3.8.10"
  }
 },
 "nbformat": 4,
 "nbformat_minor": 5
}
