{
 "cells": [
  {
   "cell_type": "markdown",
   "id": "9b40b705-825c-4b54-a650-365fd852d253",
   "metadata": {},
   "source": [
    "# 第一部分：告警聚类   \n",
    "---"
   ]
  },
  {
   "cell_type": "markdown",
   "id": "ccb13a1e-35a3-4e0d-8bb7-b5ad5ff10b7e",
   "metadata": {},
   "source": [
    "##### 对客户原始告警数据进行算法聚类，并保存聚类后的输出结果，输入以及输出结果一般存放在项目路径下的【dataset/原始告警】路径下 \n",
    "path:为客户原始告警文件路径 </br>\n",
    "save_path:保存对客户告警去重后的结果 </br>\n",
    "save_struc:保存全量的告警内容，以及聚类结果 </br>\n",
    "save_temp:保存每个模版的首条告警内容，以及对应聚类结果 </br>\n",
    "sim:根据聚类结果调整聚类相似度阈值"
   ]
  },
  {
   "cell_type": "code",
   "execution_count": 1,
   "id": "c8eba0f5-67ae-47e3-89c1-203becc0de4a",
   "metadata": {},
   "outputs": [
    {
     "name": "stderr",
     "output_type": "stream",
     "text": [
      "C:\\Users\\1\\miniconda3\\envs\\_tf24\\lib\\site-packages\\scipy\\__init__.py:146: UserWarning: A NumPy version >=1.16.5 and <1.23.0 is required for this version of SciPy (detected version 1.23.5\n",
      "  warnings.warn(f\"A NumPy version >={np_minversion} and <{np_maxversion}\"\n"
     ]
    }
   ],
   "source": [
    "from utils import *\n",
    "import warnings\n",
    "warnings.filterwarnings(\"ignore\")"
   ]
  },
  {
   "cell_type": "markdown",
   "id": "1f2baff2-ef87-4be7-8dd0-73976d197ed3",
   "metadata": {},
   "source": [
    "### 输入输出路径"
   ]
  },
  {
   "cell_type": "code",
   "execution_count": 4,
   "id": "a741af97-7d4d-486f-9863-7864dfd195d9",
   "metadata": {},
   "outputs": [],
   "source": [
    "# 原始告警文件路径\n",
    "path = \"D:/hj/数据/海通告警数据/海通-模板/dataset/LN/dataset/辽宁农信根据告警等级过滤21883.csv\"\n",
    "# 去重后文件保存路径\n",
    "save_path = \"./dataset/原始告警/nl-去重.csv\"\n",
    "# 聚类结果保存路径 （2个文件）\n",
    "save_struc = \"./dataset/聚类模板/ln-struc.csv\"\n",
    "save_temp = \"./dataset/聚类模板/ln-temp.csv\"\n",
    "# 抽取的告警模版保存路径\n",
    "temp_path = \"./dataset/聚类模板/nl_extract_temp.csv\"\n",
    "# 聚类相似度阈值\n",
    "sim = 0.8"
   ]
  },
  {
   "cell_type": "markdown",
   "id": "ab472f10-ecf5-4318-89d8-769887655871",
   "metadata": {},
   "source": [
    "### 1. 加载数据 并 去重"
   ]
  },
  {
   "cell_type": "code",
   "execution_count": 5,
   "id": "0dc0cfc1-7988-4f0d-a4ce-b3beead0af8b",
   "metadata": {},
   "outputs": [
    {
     "name": "stdout",
     "output_type": "stream",
     "text": [
      "原始数据量为: (21883, 16)\n",
      "安装告警内容去重后数据量为： (21883, 16)\n"
     ]
    }
   ],
   "source": [
    "read_and_save(path, save_path, content_name=\"content\")   # content_name: 告警列的名字"
   ]
  },
  {
   "cell_type": "markdown",
   "id": "af9af7a2-9ece-4ce4-b87b-f0b63b027c81",
   "metadata": {},
   "source": [
    "### 2. 聚类"
   ]
  },
  {
   "cell_type": "code",
   "execution_count": 6,
   "id": "c740e1c5-a5e6-4e5d-8d7b-866b302df3e5",
   "metadata": {
    "tags": []
   },
   "outputs": [
    {
     "name": "stderr",
     "output_type": "stream",
     "text": [
      "0it [00:00, ?it/s]Building prefix dict from the default dictionary ...\n",
      "Loading model from cache C:\\Users\\1\\AppData\\Local\\Temp\\jieba.cache\n"
     ]
    },
    {
     "name": "stdout",
     "output_type": "stream",
     "text": [
      "0\n"
     ]
    },
    {
     "name": "stderr",
     "output_type": "stream",
     "text": [
      "Loading model cost 0.459 seconds.\n",
      "Prefix dict has been built successfully.\n",
      "10185it [00:06, 1447.63it/s]"
     ]
    },
    {
     "name": "stdout",
     "output_type": "stream",
     "text": [
      "10000\n"
     ]
    },
    {
     "name": "stderr",
     "output_type": "stream",
     "text": [
      "20232it [00:13, 1478.39it/s]"
     ]
    },
    {
     "name": "stdout",
     "output_type": "stream",
     "text": [
      "20000\n"
     ]
    },
    {
     "name": "stderr",
     "output_type": "stream",
     "text": [
      "21883it [00:15, 1456.18it/s]\n"
     ]
    },
    {
     "name": "stdout",
     "output_type": "stream",
     "text": [
      "聚类后的数据维度大小: (21883, 4) (235, 3)\n",
      "Used Time: 15.484544038772583\n"
     ]
    },
    {
     "data": {
      "text/html": [
       "<div>\n",
       "<style scoped>\n",
       "    .dataframe tbody tr th:only-of-type {\n",
       "        vertical-align: middle;\n",
       "    }\n",
       "\n",
       "    .dataframe tbody tr th {\n",
       "        vertical-align: top;\n",
       "    }\n",
       "\n",
       "    .dataframe thead th {\n",
       "        text-align: right;\n",
       "    }\n",
       "</style>\n",
       "<table border=\"1\" class=\"dataframe\">\n",
       "  <thead>\n",
       "    <tr style=\"text-align: right;\">\n",
       "      <th></th>\n",
       "      <th>EventId</th>\n",
       "      <th>EventTemplate</th>\n",
       "      <th>Occurrences</th>\n",
       "    </tr>\n",
       "  </thead>\n",
       "  <tbody>\n",
       "    <tr>\n",
       "      <th>0</th>\n",
       "      <td>0</td>\n",
       "      <td>windows 设备宕机</td>\n",
       "      <td>1</td>\n",
       "    </tr>\n",
       "    <tr>\n",
       "      <th>1</th>\n",
       "      <td>1</td>\n",
       "      <td>华为交换机宕机</td>\n",
       "      <td>1</td>\n",
       "    </tr>\n",
       "    <tr>\n",
       "      <th>2</th>\n",
       "      <td>2</td>\n",
       "      <td>已经宕机 &lt;\\d&gt; 分钟</td>\n",
       "      <td>1</td>\n",
       "    </tr>\n",
       "    <tr>\n",
       "      <th>3</th>\n",
       "      <td>3</td>\n",
       "      <td>设备不可达</td>\n",
       "      <td>1</td>\n",
       "    </tr>\n",
       "    <tr>\n",
       "      <th>4</th>\n",
       "      <td>4</td>\n",
       "      <td>响应&lt;*&gt;分类下的 【&lt;*&gt;】-【&lt;*&gt;】 满足在 &lt;\\d&gt; 个检测窗口中 ， 存在 &lt;\\d...</td>\n",
       "      <td>3357</td>\n",
       "    </tr>\n",
       "    <tr>\n",
       "      <th>...</th>\n",
       "      <td>...</td>\n",
       "      <td>...</td>\n",
       "      <td>...</td>\n",
       "    </tr>\n",
       "    <tr>\n",
       "      <th>230</th>\n",
       "      <td>230</td>\n",
       "      <td>【Critical】【EasyViews】&lt;\\d&gt;:&lt;\\d&gt;:&lt;\\d&gt; 大总账系统 / 应用...</td>\n",
       "      <td>1</td>\n",
       "    </tr>\n",
       "    <tr>\n",
       "      <th>231</th>\n",
       "      <td>231</td>\n",
       "      <td>【Critical】【EasyViews】&lt;\\d&gt;:&lt;\\d&gt;:&lt;\\d&gt; 大总账系统 / 应用...</td>\n",
       "      <td>1</td>\n",
       "    </tr>\n",
       "    <tr>\n",
       "      <th>232</th>\n",
       "      <td>232</td>\n",
       "      <td>f5 宕机</td>\n",
       "      <td>1</td>\n",
       "    </tr>\n",
       "    <tr>\n",
       "      <th>233</th>\n",
       "      <td>233</td>\n",
       "      <td>专家规则推荐告警内容 ：oracle 数据库不可用 , 场景 ID：&lt;\\d&gt; 主告警 ID：...</td>\n",
       "      <td>1</td>\n",
       "    </tr>\n",
       "    <tr>\n",
       "      <th>234</th>\n",
       "      <td>234</td>\n",
       "      <td>智能关联首次告警内容 ：oracle 数据库不可用 ， 场景 ID：&lt;\\d&gt; 主告警 ID：...</td>\n",
       "      <td>2</td>\n",
       "    </tr>\n",
       "  </tbody>\n",
       "</table>\n",
       "<p>235 rows × 3 columns</p>\n",
       "</div>"
      ],
      "text/plain": [
       "     EventId                                      EventTemplate  Occurrences\n",
       "0          0                                       windows 设备宕机            1\n",
       "1          1                                            华为交换机宕机            1\n",
       "2          2                                       已经宕机 <\\d> 分钟            1\n",
       "3          3                                              设备不可达            1\n",
       "4          4  响应<*>分类下的 【<*>】-【<*>】 满足在 <\\d> 个检测窗口中 ， 存在 <\\d...         3357\n",
       "..       ...                                                ...          ...\n",
       "230      230  【Critical】【EasyViews】<\\d>:<\\d>:<\\d> 大总账系统 / 应用...            1\n",
       "231      231  【Critical】【EasyViews】<\\d>:<\\d>:<\\d> 大总账系统 / 应用...            1\n",
       "232      232                                              f5 宕机            1\n",
       "233      233  专家规则推荐告警内容 ：oracle 数据库不可用 , 场景 ID：<\\d> 主告警 ID：...            1\n",
       "234      234  智能关联首次告警内容 ：oracle 数据库不可用 ， 场景 ID：<\\d> 主告警 ID：...            2\n",
       "\n",
       "[235 rows x 3 columns]"
      ]
     },
     "metadata": {},
     "output_type": "display_data"
    }
   ],
   "source": [
    "file_name = save_path.split('/')[-1]\n",
    "start_time = time.time()\n",
    "structured, templateId = parser(file_name, sim, save_path)\n",
    "print(\"Used Time:\", time.time() - start_time)\n",
    "display(templateId)"
   ]
  },
  {
   "cell_type": "markdown",
   "id": "50509b1e-953d-47d9-8a85-5ae3cae2a390",
   "metadata": {},
   "source": [
    "### 3. 保存聚类结果"
   ]
  },
  {
   "cell_type": "code",
   "execution_count": 7,
   "id": "7824bf2b-a235-40d6-8889-7c3ec25b2ec9",
   "metadata": {},
   "outputs": [],
   "source": [
    "save_(structured, templateId, save_struc, save_temp)"
   ]
  },
  {
   "cell_type": "code",
   "execution_count": null,
   "id": "e43c7aa2-9c00-4d72-be51-2a8dd69670ab",
   "metadata": {},
   "outputs": [],
   "source": [
    "# 数据量： 175370\n",
    "# 模板量： 554\n",
    "# 耗时：   102s"
   ]
  },
  {
   "cell_type": "markdown",
   "id": "ea72d210-3802-447c-9828-f1a4df87b332",
   "metadata": {
    "jupyter": {
     "outputs_hidden": true
    },
    "tags": []
   },
   "source": [
    "### 4. 每个模版告警抽取一条告警 生成csv文件"
   ]
  },
  {
   "cell_type": "code",
   "execution_count": 8,
   "id": "ba619a24-c1b9-40f4-823a-24799a01503b",
   "metadata": {},
   "outputs": [
    {
     "name": "stdout",
     "output_type": "stream",
     "text": [
      "(235, 4)\n"
     ]
    }
   ],
   "source": [
    "df_struc = pd.read_csv(save_struc)                  # 人工修改好的告警模版保存到原来的 save_struc 位置\n",
    "df_temp = df_struc.groupby('EventId', group_keys=False).apply(lambda x: x.sample(n=1, random_state=0))\n",
    "print(df_temp.shape)\n",
    "df_temp.to_csv(temp_path, index=False)"
   ]
  },
  {
   "cell_type": "code",
   "execution_count": null,
   "id": "da004e1b-7b82-46f9-8901-235d05739419",
   "metadata": {},
   "outputs": [],
   "source": []
  }
 ],
 "metadata": {
  "kernelspec": {
   "display_name": "Python 3",
   "language": "python",
   "name": "python3"
  },
  "language_info": {
   "codemirror_mode": {
    "name": "ipython",
    "version": 3
   },
   "file_extension": ".py",
   "mimetype": "text/x-python",
   "name": "python",
   "nbconvert_exporter": "python",
   "pygments_lexer": "ipython3",
   "version": "3.8.10"
  }
 },
 "nbformat": 4,
 "nbformat_minor": 5
}
